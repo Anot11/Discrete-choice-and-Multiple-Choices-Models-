{
  "nbformat": 4,
  "nbformat_minor": 0,
  "metadata": {
    "colab": {
      "name": "Discrete Choices Models.ipynb",
      "provenance": [],
      "authorship_tag": "ABX9TyPU66RRFvdEz6qntoUg1hN4",
      "include_colab_link": true
    },
    "kernelspec": {
      "name": "python3",
      "display_name": "Python 3"
    },
    "language_info": {
      "name": "python"
    }
  },
  "cells": [
    {
      "cell_type": "markdown",
      "metadata": {
        "id": "view-in-github",
        "colab_type": "text"
      },
      "source": [
        "<a href=\"https://colab.research.google.com/github/Anot11/Discrete-choice-and-Multiple-Choices-Models-/blob/main/Discrete_Choices_Models.ipynb\" target=\"_parent\"><img src=\"https://colab.research.google.com/assets/colab-badge.svg\" alt=\"Open In Colab\"/></a>"
      ]
    },
    {
      "cell_type": "code",
      "execution_count": null,
      "metadata": {
        "id": "tfCiYMJAKWPD"
      },
      "outputs": [],
      "source": [
        "%reset -f"
      ]
    },
    {
      "cell_type": "code",
      "source": [
        "import numpy             as np\n",
        "import statsmodels.api   as sm\n",
        "import pandas            as pd\n",
        "import seaborn           as sns\n",
        "\n",
        "from statsmodels.discrete.discrete_model import LogitResults\n",
        "\n",
        "from statsmodels.iolib.summary2 import summary_col"
      ],
      "metadata": {
        "colab": {
          "base_uri": "https://localhost:8080/"
        },
        "id": "tw96e6bc5x2S",
        "outputId": "42bc119c-4c4a-4c4d-81e3-854ddb284e4a"
      },
      "execution_count": null,
      "outputs": [
        {
          "output_type": "stream",
          "name": "stderr",
          "text": [
            "/usr/local/lib/python3.7/dist-packages/statsmodels/tools/_testing.py:19: FutureWarning: pandas.util.testing is deprecated. Use the functions in the public API at pandas.testing instead.\n",
            "  import pandas.util.testing as tm\n"
          ]
        }
      ]
    },
    {
      "cell_type": "code",
      "source": [
        "from google.colab import drive \n",
        "drive.mount('/content/drive/')"
      ],
      "metadata": {
        "colab": {
          "base_uri": "https://localhost:8080/"
        },
        "id": "NSMy5G-I7E-U",
        "outputId": "3aa9640a-1f26-4456-8a13-0a3e7279d33d"
      },
      "execution_count": null,
      "outputs": [
        {
          "output_type": "stream",
          "name": "stdout",
          "text": [
            "Mounted at /content/drive/\n"
          ]
        }
      ]
    },
    {
      "cell_type": "code",
      "source": [
        "%pip install -q keras"
      ],
      "metadata": {
        "id": "LL23byIj-5Gj"
      },
      "execution_count": null,
      "outputs": []
    },
    {
      "cell_type": "code",
      "source": [
        "import pandas as pd\n",
        "df=pd.read_csv('/content/drive/MyDrive/mroz9.csv')"
      ],
      "metadata": {
        "id": "bmXblO2V-KtA"
      },
      "execution_count": null,
      "outputs": []
    },
    {
      "cell_type": "code",
      "source": [
        "df = sm.add_constant(df)\n",
        "df.columns"
      ],
      "metadata": {
        "colab": {
          "base_uri": "https://localhost:8080/"
        },
        "id": "Dzlaswzu-iyy",
        "outputId": "61567bc8-4858-48a8-80f0-de595176d32f"
      },
      "execution_count": null,
      "outputs": [
        {
          "output_type": "stream",
          "name": "stderr",
          "text": [
            "/usr/local/lib/python3.7/dist-packages/statsmodels/tsa/tsatools.py:117: FutureWarning: In a future version of pandas all arguments of concat except for the argument 'objs' will be keyword-only\n",
            "  x = pd.concat(x[::order], 1)\n"
          ]
        },
        {
          "output_type": "execute_result",
          "data": {
            "text/plain": [
              "Index(['const', 'inlf', 'kidslt6', 'kidsge6', 'age', 'educ', 'unem', 'exper',\n",
              "       'nwifeinc', 'lnwage', 'expersq'],\n",
              "      dtype='object')"
            ]
          },
          "metadata": {},
          "execution_count": 6
        }
      ]
    },
    {
      "cell_type": "code",
      "source": [
        "df.head()"
      ],
      "metadata": {
        "colab": {
          "base_uri": "https://localhost:8080/",
          "height": 206
        },
        "id": "xFtD_JkV-8Gt",
        "outputId": "bb6d66d5-2697-4ccb-d2b0-7f343ebdbe26"
      },
      "execution_count": null,
      "outputs": [
        {
          "output_type": "execute_result",
          "data": {
            "text/plain": [
              "   const  inlf  kidslt6  kidsge6  age  educ  unem  exper   nwifeinc    lnwage  \\\n",
              "0    1.0     1        1        0   32    12   5.0     14  10.910060  1.210154   \n",
              "1    1.0     1        0        2   30    12  11.0      5  19.499981  0.328512   \n",
              "2    1.0     1        1        3   35    12   5.0     15  12.039910  1.514138   \n",
              "3    1.0     1        0        3   34    12   5.0      6   6.799996  0.092123   \n",
              "4    1.0     1        1        2   31    14   9.5      7  20.100058  1.524272   \n",
              "\n",
              "   expersq  \n",
              "0      196  \n",
              "1       25  \n",
              "2      225  \n",
              "3       36  \n",
              "4       49  "
            ],
            "text/html": [
              "\n",
              "  <div id=\"df-865e150f-e8e3-4cdf-bf72-9762d12b6665\">\n",
              "    <div class=\"colab-df-container\">\n",
              "      <div>\n",
              "<style scoped>\n",
              "    .dataframe tbody tr th:only-of-type {\n",
              "        vertical-align: middle;\n",
              "    }\n",
              "\n",
              "    .dataframe tbody tr th {\n",
              "        vertical-align: top;\n",
              "    }\n",
              "\n",
              "    .dataframe thead th {\n",
              "        text-align: right;\n",
              "    }\n",
              "</style>\n",
              "<table border=\"1\" class=\"dataframe\">\n",
              "  <thead>\n",
              "    <tr style=\"text-align: right;\">\n",
              "      <th></th>\n",
              "      <th>const</th>\n",
              "      <th>inlf</th>\n",
              "      <th>kidslt6</th>\n",
              "      <th>kidsge6</th>\n",
              "      <th>age</th>\n",
              "      <th>educ</th>\n",
              "      <th>unem</th>\n",
              "      <th>exper</th>\n",
              "      <th>nwifeinc</th>\n",
              "      <th>lnwage</th>\n",
              "      <th>expersq</th>\n",
              "    </tr>\n",
              "  </thead>\n",
              "  <tbody>\n",
              "    <tr>\n",
              "      <th>0</th>\n",
              "      <td>1.0</td>\n",
              "      <td>1</td>\n",
              "      <td>1</td>\n",
              "      <td>0</td>\n",
              "      <td>32</td>\n",
              "      <td>12</td>\n",
              "      <td>5.0</td>\n",
              "      <td>14</td>\n",
              "      <td>10.910060</td>\n",
              "      <td>1.210154</td>\n",
              "      <td>196</td>\n",
              "    </tr>\n",
              "    <tr>\n",
              "      <th>1</th>\n",
              "      <td>1.0</td>\n",
              "      <td>1</td>\n",
              "      <td>0</td>\n",
              "      <td>2</td>\n",
              "      <td>30</td>\n",
              "      <td>12</td>\n",
              "      <td>11.0</td>\n",
              "      <td>5</td>\n",
              "      <td>19.499981</td>\n",
              "      <td>0.328512</td>\n",
              "      <td>25</td>\n",
              "    </tr>\n",
              "    <tr>\n",
              "      <th>2</th>\n",
              "      <td>1.0</td>\n",
              "      <td>1</td>\n",
              "      <td>1</td>\n",
              "      <td>3</td>\n",
              "      <td>35</td>\n",
              "      <td>12</td>\n",
              "      <td>5.0</td>\n",
              "      <td>15</td>\n",
              "      <td>12.039910</td>\n",
              "      <td>1.514138</td>\n",
              "      <td>225</td>\n",
              "    </tr>\n",
              "    <tr>\n",
              "      <th>3</th>\n",
              "      <td>1.0</td>\n",
              "      <td>1</td>\n",
              "      <td>0</td>\n",
              "      <td>3</td>\n",
              "      <td>34</td>\n",
              "      <td>12</td>\n",
              "      <td>5.0</td>\n",
              "      <td>6</td>\n",
              "      <td>6.799996</td>\n",
              "      <td>0.092123</td>\n",
              "      <td>36</td>\n",
              "    </tr>\n",
              "    <tr>\n",
              "      <th>4</th>\n",
              "      <td>1.0</td>\n",
              "      <td>1</td>\n",
              "      <td>1</td>\n",
              "      <td>2</td>\n",
              "      <td>31</td>\n",
              "      <td>14</td>\n",
              "      <td>9.5</td>\n",
              "      <td>7</td>\n",
              "      <td>20.100058</td>\n",
              "      <td>1.524272</td>\n",
              "      <td>49</td>\n",
              "    </tr>\n",
              "  </tbody>\n",
              "</table>\n",
              "</div>\n",
              "      <button class=\"colab-df-convert\" onclick=\"convertToInteractive('df-865e150f-e8e3-4cdf-bf72-9762d12b6665')\"\n",
              "              title=\"Convert this dataframe to an interactive table.\"\n",
              "              style=\"display:none;\">\n",
              "        \n",
              "  <svg xmlns=\"http://www.w3.org/2000/svg\" height=\"24px\"viewBox=\"0 0 24 24\"\n",
              "       width=\"24px\">\n",
              "    <path d=\"M0 0h24v24H0V0z\" fill=\"none\"/>\n",
              "    <path d=\"M18.56 5.44l.94 2.06.94-2.06 2.06-.94-2.06-.94-.94-2.06-.94 2.06-2.06.94zm-11 1L8.5 8.5l.94-2.06 2.06-.94-2.06-.94L8.5 2.5l-.94 2.06-2.06.94zm10 10l.94 2.06.94-2.06 2.06-.94-2.06-.94-.94-2.06-.94 2.06-2.06.94z\"/><path d=\"M17.41 7.96l-1.37-1.37c-.4-.4-.92-.59-1.43-.59-.52 0-1.04.2-1.43.59L10.3 9.45l-7.72 7.72c-.78.78-.78 2.05 0 2.83L4 21.41c.39.39.9.59 1.41.59.51 0 1.02-.2 1.41-.59l7.78-7.78 2.81-2.81c.8-.78.8-2.07 0-2.86zM5.41 20L4 18.59l7.72-7.72 1.47 1.35L5.41 20z\"/>\n",
              "  </svg>\n",
              "      </button>\n",
              "      \n",
              "  <style>\n",
              "    .colab-df-container {\n",
              "      display:flex;\n",
              "      flex-wrap:wrap;\n",
              "      gap: 12px;\n",
              "    }\n",
              "\n",
              "    .colab-df-convert {\n",
              "      background-color: #E8F0FE;\n",
              "      border: none;\n",
              "      border-radius: 50%;\n",
              "      cursor: pointer;\n",
              "      display: none;\n",
              "      fill: #1967D2;\n",
              "      height: 32px;\n",
              "      padding: 0 0 0 0;\n",
              "      width: 32px;\n",
              "    }\n",
              "\n",
              "    .colab-df-convert:hover {\n",
              "      background-color: #E2EBFA;\n",
              "      box-shadow: 0px 1px 2px rgba(60, 64, 67, 0.3), 0px 1px 3px 1px rgba(60, 64, 67, 0.15);\n",
              "      fill: #174EA6;\n",
              "    }\n",
              "\n",
              "    [theme=dark] .colab-df-convert {\n",
              "      background-color: #3B4455;\n",
              "      fill: #D2E3FC;\n",
              "    }\n",
              "\n",
              "    [theme=dark] .colab-df-convert:hover {\n",
              "      background-color: #434B5C;\n",
              "      box-shadow: 0px 1px 3px 1px rgba(0, 0, 0, 0.15);\n",
              "      filter: drop-shadow(0px 1px 2px rgba(0, 0, 0, 0.3));\n",
              "      fill: #FFFFFF;\n",
              "    }\n",
              "  </style>\n",
              "\n",
              "      <script>\n",
              "        const buttonEl =\n",
              "          document.querySelector('#df-865e150f-e8e3-4cdf-bf72-9762d12b6665 button.colab-df-convert');\n",
              "        buttonEl.style.display =\n",
              "          google.colab.kernel.accessAllowed ? 'block' : 'none';\n",
              "\n",
              "        async function convertToInteractive(key) {\n",
              "          const element = document.querySelector('#df-865e150f-e8e3-4cdf-bf72-9762d12b6665');\n",
              "          const dataTable =\n",
              "            await google.colab.kernel.invokeFunction('convertToInteractive',\n",
              "                                                     [key], {});\n",
              "          if (!dataTable) return;\n",
              "\n",
              "          const docLinkHtml = 'Like what you see? Visit the ' +\n",
              "            '<a target=\"_blank\" href=https://colab.research.google.com/notebooks/data_table.ipynb>data table notebook</a>'\n",
              "            + ' to learn more about interactive tables.';\n",
              "          element.innerHTML = '';\n",
              "          dataTable['output_type'] = 'display_data';\n",
              "          await google.colab.output.renderOutput(dataTable, element);\n",
              "          const docLink = document.createElement('div');\n",
              "          docLink.innerHTML = docLinkHtml;\n",
              "          element.appendChild(docLink);\n",
              "        }\n",
              "      </script>\n",
              "    </div>\n",
              "  </div>\n",
              "  "
            ]
          },
          "metadata": {},
          "execution_count": 7
        }
      ]
    },
    {
      "cell_type": "code",
      "source": [
        "df.describe()"
      ],
      "metadata": {
        "colab": {
          "base_uri": "https://localhost:8080/",
          "height": 300
        },
        "id": "8wSC18yQ_Iee",
        "outputId": "00f808ed-62c0-4adb-ce9f-6a6de2975431"
      },
      "execution_count": null,
      "outputs": [
        {
          "output_type": "execute_result",
          "data": {
            "text/plain": [
              "       const        inlf     kidslt6     kidsge6         age        educ  \\\n",
              "count  753.0  753.000000  753.000000  753.000000  753.000000  753.000000   \n",
              "mean     1.0    0.568393    0.237716    1.353254   42.537849   12.286853   \n",
              "std      0.0    0.495630    0.523959    1.319874    8.072574    2.280246   \n",
              "min      1.0    0.000000    0.000000    0.000000   30.000000    5.000000   \n",
              "25%      1.0    0.000000    0.000000    0.000000   36.000000   12.000000   \n",
              "50%      1.0    1.000000    0.000000    1.000000   43.000000   12.000000   \n",
              "75%      1.0    1.000000    0.000000    2.000000   49.000000   13.000000   \n",
              "max      1.0    1.000000    3.000000    8.000000   60.000000   17.000000   \n",
              "\n",
              "             unem      exper    nwifeinc      lnwage      expersq  \n",
              "count  753.000000  753.00000  753.000000  428.000000   753.000000  \n",
              "mean     8.623506   10.63081   20.128964    1.190173   178.038513  \n",
              "std      3.114934    8.06913   11.634797    0.723198   249.630849  \n",
              "min      3.000000    0.00000   -0.029057   -2.054164     0.000000  \n",
              "25%      7.500000    4.00000   13.025040    0.816509    16.000000  \n",
              "50%      7.500000    9.00000   17.700001    1.247574    81.000000  \n",
              "75%     11.000000   15.00000   24.466000    1.603571   225.000000  \n",
              "max     14.000000   45.00000   96.000000    3.218876  2025.000000  "
            ],
            "text/html": [
              "\n",
              "  <div id=\"df-057601e7-91fa-4e04-9d85-bfa760e84350\">\n",
              "    <div class=\"colab-df-container\">\n",
              "      <div>\n",
              "<style scoped>\n",
              "    .dataframe tbody tr th:only-of-type {\n",
              "        vertical-align: middle;\n",
              "    }\n",
              "\n",
              "    .dataframe tbody tr th {\n",
              "        vertical-align: top;\n",
              "    }\n",
              "\n",
              "    .dataframe thead th {\n",
              "        text-align: right;\n",
              "    }\n",
              "</style>\n",
              "<table border=\"1\" class=\"dataframe\">\n",
              "  <thead>\n",
              "    <tr style=\"text-align: right;\">\n",
              "      <th></th>\n",
              "      <th>const</th>\n",
              "      <th>inlf</th>\n",
              "      <th>kidslt6</th>\n",
              "      <th>kidsge6</th>\n",
              "      <th>age</th>\n",
              "      <th>educ</th>\n",
              "      <th>unem</th>\n",
              "      <th>exper</th>\n",
              "      <th>nwifeinc</th>\n",
              "      <th>lnwage</th>\n",
              "      <th>expersq</th>\n",
              "    </tr>\n",
              "  </thead>\n",
              "  <tbody>\n",
              "    <tr>\n",
              "      <th>count</th>\n",
              "      <td>753.0</td>\n",
              "      <td>753.000000</td>\n",
              "      <td>753.000000</td>\n",
              "      <td>753.000000</td>\n",
              "      <td>753.000000</td>\n",
              "      <td>753.000000</td>\n",
              "      <td>753.000000</td>\n",
              "      <td>753.00000</td>\n",
              "      <td>753.000000</td>\n",
              "      <td>428.000000</td>\n",
              "      <td>753.000000</td>\n",
              "    </tr>\n",
              "    <tr>\n",
              "      <th>mean</th>\n",
              "      <td>1.0</td>\n",
              "      <td>0.568393</td>\n",
              "      <td>0.237716</td>\n",
              "      <td>1.353254</td>\n",
              "      <td>42.537849</td>\n",
              "      <td>12.286853</td>\n",
              "      <td>8.623506</td>\n",
              "      <td>10.63081</td>\n",
              "      <td>20.128964</td>\n",
              "      <td>1.190173</td>\n",
              "      <td>178.038513</td>\n",
              "    </tr>\n",
              "    <tr>\n",
              "      <th>std</th>\n",
              "      <td>0.0</td>\n",
              "      <td>0.495630</td>\n",
              "      <td>0.523959</td>\n",
              "      <td>1.319874</td>\n",
              "      <td>8.072574</td>\n",
              "      <td>2.280246</td>\n",
              "      <td>3.114934</td>\n",
              "      <td>8.06913</td>\n",
              "      <td>11.634797</td>\n",
              "      <td>0.723198</td>\n",
              "      <td>249.630849</td>\n",
              "    </tr>\n",
              "    <tr>\n",
              "      <th>min</th>\n",
              "      <td>1.0</td>\n",
              "      <td>0.000000</td>\n",
              "      <td>0.000000</td>\n",
              "      <td>0.000000</td>\n",
              "      <td>30.000000</td>\n",
              "      <td>5.000000</td>\n",
              "      <td>3.000000</td>\n",
              "      <td>0.00000</td>\n",
              "      <td>-0.029057</td>\n",
              "      <td>-2.054164</td>\n",
              "      <td>0.000000</td>\n",
              "    </tr>\n",
              "    <tr>\n",
              "      <th>25%</th>\n",
              "      <td>1.0</td>\n",
              "      <td>0.000000</td>\n",
              "      <td>0.000000</td>\n",
              "      <td>0.000000</td>\n",
              "      <td>36.000000</td>\n",
              "      <td>12.000000</td>\n",
              "      <td>7.500000</td>\n",
              "      <td>4.00000</td>\n",
              "      <td>13.025040</td>\n",
              "      <td>0.816509</td>\n",
              "      <td>16.000000</td>\n",
              "    </tr>\n",
              "    <tr>\n",
              "      <th>50%</th>\n",
              "      <td>1.0</td>\n",
              "      <td>1.000000</td>\n",
              "      <td>0.000000</td>\n",
              "      <td>1.000000</td>\n",
              "      <td>43.000000</td>\n",
              "      <td>12.000000</td>\n",
              "      <td>7.500000</td>\n",
              "      <td>9.00000</td>\n",
              "      <td>17.700001</td>\n",
              "      <td>1.247574</td>\n",
              "      <td>81.000000</td>\n",
              "    </tr>\n",
              "    <tr>\n",
              "      <th>75%</th>\n",
              "      <td>1.0</td>\n",
              "      <td>1.000000</td>\n",
              "      <td>0.000000</td>\n",
              "      <td>2.000000</td>\n",
              "      <td>49.000000</td>\n",
              "      <td>13.000000</td>\n",
              "      <td>11.000000</td>\n",
              "      <td>15.00000</td>\n",
              "      <td>24.466000</td>\n",
              "      <td>1.603571</td>\n",
              "      <td>225.000000</td>\n",
              "    </tr>\n",
              "    <tr>\n",
              "      <th>max</th>\n",
              "      <td>1.0</td>\n",
              "      <td>1.000000</td>\n",
              "      <td>3.000000</td>\n",
              "      <td>8.000000</td>\n",
              "      <td>60.000000</td>\n",
              "      <td>17.000000</td>\n",
              "      <td>14.000000</td>\n",
              "      <td>45.00000</td>\n",
              "      <td>96.000000</td>\n",
              "      <td>3.218876</td>\n",
              "      <td>2025.000000</td>\n",
              "    </tr>\n",
              "  </tbody>\n",
              "</table>\n",
              "</div>\n",
              "      <button class=\"colab-df-convert\" onclick=\"convertToInteractive('df-057601e7-91fa-4e04-9d85-bfa760e84350')\"\n",
              "              title=\"Convert this dataframe to an interactive table.\"\n",
              "              style=\"display:none;\">\n",
              "        \n",
              "  <svg xmlns=\"http://www.w3.org/2000/svg\" height=\"24px\"viewBox=\"0 0 24 24\"\n",
              "       width=\"24px\">\n",
              "    <path d=\"M0 0h24v24H0V0z\" fill=\"none\"/>\n",
              "    <path d=\"M18.56 5.44l.94 2.06.94-2.06 2.06-.94-2.06-.94-.94-2.06-.94 2.06-2.06.94zm-11 1L8.5 8.5l.94-2.06 2.06-.94-2.06-.94L8.5 2.5l-.94 2.06-2.06.94zm10 10l.94 2.06.94-2.06 2.06-.94-2.06-.94-.94-2.06-.94 2.06-2.06.94z\"/><path d=\"M17.41 7.96l-1.37-1.37c-.4-.4-.92-.59-1.43-.59-.52 0-1.04.2-1.43.59L10.3 9.45l-7.72 7.72c-.78.78-.78 2.05 0 2.83L4 21.41c.39.39.9.59 1.41.59.51 0 1.02-.2 1.41-.59l7.78-7.78 2.81-2.81c.8-.78.8-2.07 0-2.86zM5.41 20L4 18.59l7.72-7.72 1.47 1.35L5.41 20z\"/>\n",
              "  </svg>\n",
              "      </button>\n",
              "      \n",
              "  <style>\n",
              "    .colab-df-container {\n",
              "      display:flex;\n",
              "      flex-wrap:wrap;\n",
              "      gap: 12px;\n",
              "    }\n",
              "\n",
              "    .colab-df-convert {\n",
              "      background-color: #E8F0FE;\n",
              "      border: none;\n",
              "      border-radius: 50%;\n",
              "      cursor: pointer;\n",
              "      display: none;\n",
              "      fill: #1967D2;\n",
              "      height: 32px;\n",
              "      padding: 0 0 0 0;\n",
              "      width: 32px;\n",
              "    }\n",
              "\n",
              "    .colab-df-convert:hover {\n",
              "      background-color: #E2EBFA;\n",
              "      box-shadow: 0px 1px 2px rgba(60, 64, 67, 0.3), 0px 1px 3px 1px rgba(60, 64, 67, 0.15);\n",
              "      fill: #174EA6;\n",
              "    }\n",
              "\n",
              "    [theme=dark] .colab-df-convert {\n",
              "      background-color: #3B4455;\n",
              "      fill: #D2E3FC;\n",
              "    }\n",
              "\n",
              "    [theme=dark] .colab-df-convert:hover {\n",
              "      background-color: #434B5C;\n",
              "      box-shadow: 0px 1px 3px 1px rgba(0, 0, 0, 0.15);\n",
              "      filter: drop-shadow(0px 1px 2px rgba(0, 0, 0, 0.3));\n",
              "      fill: #FFFFFF;\n",
              "    }\n",
              "  </style>\n",
              "\n",
              "      <script>\n",
              "        const buttonEl =\n",
              "          document.querySelector('#df-057601e7-91fa-4e04-9d85-bfa760e84350 button.colab-df-convert');\n",
              "        buttonEl.style.display =\n",
              "          google.colab.kernel.accessAllowed ? 'block' : 'none';\n",
              "\n",
              "        async function convertToInteractive(key) {\n",
              "          const element = document.querySelector('#df-057601e7-91fa-4e04-9d85-bfa760e84350');\n",
              "          const dataTable =\n",
              "            await google.colab.kernel.invokeFunction('convertToInteractive',\n",
              "                                                     [key], {});\n",
              "          if (!dataTable) return;\n",
              "\n",
              "          const docLinkHtml = 'Like what you see? Visit the ' +\n",
              "            '<a target=\"_blank\" href=https://colab.research.google.com/notebooks/data_table.ipynb>data table notebook</a>'\n",
              "            + ' to learn more about interactive tables.';\n",
              "          element.innerHTML = '';\n",
              "          dataTable['output_type'] = 'display_data';\n",
              "          await google.colab.output.renderOutput(dataTable, element);\n",
              "          const docLink = document.createElement('div');\n",
              "          docLink.innerHTML = docLinkHtml;\n",
              "          element.appendChild(docLink);\n",
              "        }\n",
              "      </script>\n",
              "    </div>\n",
              "  </div>\n",
              "  "
            ]
          },
          "metadata": {},
          "execution_count": 8
        }
      ]
    },
    {
      "cell_type": "code",
      "source": [
        "X = df[['const', 'nwifeinc', 'educ', 'exper', 'expersq', 'age', 'kidslt6']]\n",
        "Y = df[['inlf']]"
      ],
      "metadata": {
        "id": "7saFwsWu_Lrm"
      },
      "execution_count": null,
      "outputs": []
    },
    {
      "cell_type": "code",
      "source": [
        "#The outcome variable inlf is binary, equal to 1 if the woman is in the labor force, and 0 otherwise.\n",
        "#Estimate the linear probability model (LPM)\n",
        "#Pr(inlf = 1|x) = β0 + β1nwifeinc + β2educ + β3exper + β4expersq + β5age + β6kidslt6 + u "
      ],
      "metadata": {
        "id": "tRn26JZT_fGn"
      },
      "execution_count": null,
      "outputs": []
    },
    {
      "cell_type": "code",
      "source": [
        "ols_mod = sm.OLS(Y, X)\n",
        "ols_res = ols_mod.fit(cov_type='HC1')\n",
        "\n",
        "print(ols_res.summary())"
      ],
      "metadata": {
        "colab": {
          "base_uri": "https://localhost:8080/"
        },
        "id": "QqEqvvjj_zIH",
        "outputId": "d0744bfd-7610-4fa4-ff39-f2c9dc3b66db"
      },
      "execution_count": null,
      "outputs": [
        {
          "output_type": "stream",
          "name": "stdout",
          "text": [
            "                            OLS Regression Results                            \n",
            "==============================================================================\n",
            "Dep. Variable:                   inlf   R-squared:                       0.263\n",
            "Model:                            OLS   Adj. R-squared:                  0.257\n",
            "Method:                 Least Squares   F-statistic:                     72.28\n",
            "Date:                Sun, 03 Jul 2022   Prob (F-statistic):           5.53e-71\n",
            "Time:                        05:16:31   Log-Likelihood:                -424.38\n",
            "No. Observations:                 753   AIC:                             862.8\n",
            "Df Residuals:                     746   BIC:                             895.1\n",
            "Df Model:                           6                                         \n",
            "Covariance Type:                  HC1                                         \n",
            "==============================================================================\n",
            "                 coef    std err          z      P>|z|      [0.025      0.975]\n",
            "------------------------------------------------------------------------------\n",
            "const          0.6509      0.140      4.634      0.000       0.376       0.926\n",
            "nwifeinc      -0.0033      0.002     -2.189      0.029      -0.006      -0.000\n",
            "educ           0.0373      0.007      5.151      0.000       0.023       0.051\n",
            "exper          0.0391      0.006      6.754      0.000       0.028       0.050\n",
            "expersq       -0.0006      0.000     -3.138      0.002      -0.001      -0.000\n",
            "age           -0.0169      0.002     -7.452      0.000      -0.021      -0.012\n",
            "kidslt6       -0.2655      0.032     -8.364      0.000      -0.328      -0.203\n",
            "==============================================================================\n",
            "Omnibus:                      175.416   Durbin-Watson:                   0.493\n",
            "Prob(Omnibus):                  0.000   Jarque-Bera (JB):               36.815\n",
            "Skew:                          -0.187   Prob(JB):                     1.01e-08\n",
            "Kurtosis:                       1.984   Cond. No.                     2.77e+03\n",
            "==============================================================================\n",
            "\n",
            "Warnings:\n",
            "[1] Standard Errors are heteroscedasticity robust (HC1)\n",
            "[2] The condition number is large, 2.77e+03. This might indicate that there are\n",
            "strong multicollinearity or other numerical problems.\n"
          ]
        }
      ]
    },
    {
      "cell_type": "code",
      "source": [
        "#Estimate the Probit model of the determinants of Pr(inlf = 1|x):\n",
        "#Pr(inlf = 1|x) = Φ (β0 + β1nwifeinc + β2educ + β3exper + β4expersq + β5age + β6kidslt6)\n",
        "\n",
        "probit_mod = sm.Probit(Y, X)\n",
        "probit_res = probit_mod.fit(cov_type='HC1')\n",
        "\n",
        "print(probit_res.summary())\n"
      ],
      "metadata": {
        "colab": {
          "base_uri": "https://localhost:8080/"
        },
        "id": "4oEYzSxNHM1W",
        "outputId": "7b8eaac4-b900-424f-e59c-954bf1fb6228"
      },
      "execution_count": null,
      "outputs": [
        {
          "output_type": "stream",
          "name": "stdout",
          "text": [
            "Optimization terminated successfully.\n",
            "         Current function value: 0.533394\n",
            "         Iterations 5\n",
            "                          Probit Regression Results                           \n",
            "==============================================================================\n",
            "Dep. Variable:                   inlf   No. Observations:                  753\n",
            "Model:                         Probit   Df Residuals:                      746\n",
            "Method:                           MLE   Df Model:                            6\n",
            "Date:                Sun, 03 Jul 2022   Pseudo R-squ.:                  0.2199\n",
            "Time:                        05:16:36   Log-Likelihood:                -401.65\n",
            "converged:                       True   LL-Null:                       -514.87\n",
            "Covariance Type:                  HC1   LLR p-value:                 4.369e-46\n",
            "==============================================================================\n",
            "                 coef    std err          z      P>|z|      [0.025      0.975]\n",
            "------------------------------------------------------------------------------\n",
            "const          0.4634      0.449      1.031      0.302      -0.417       1.344\n",
            "nwifeinc      -0.0118      0.005     -2.225      0.026      -0.022      -0.001\n",
            "educ           0.1287      0.026      5.029      0.000       0.079       0.179\n",
            "exper          0.1221      0.019      6.532      0.000       0.085       0.159\n",
            "expersq       -0.0019      0.001     -3.149      0.002      -0.003      -0.001\n",
            "age           -0.0553      0.008     -7.058      0.000      -0.071      -0.040\n",
            "kidslt6       -0.8809      0.116     -7.605      0.000      -1.108      -0.654\n",
            "==============================================================================\n"
          ]
        }
      ]
    },
    {
      "cell_type": "code",
      "source": [
        "#Logit model of the determinants of Pr(inlf = 1|x):\n",
        "#Pr(inlf = 1|x) = Λ(β0 + β1nwifeinc + β2educ + β3exper + β4expersq + β5age + β6kidslt6)\n",
        "\n",
        "probit_me = probit_res.get_margeff()\n",
        "print(probit_me.summary())"
      ],
      "metadata": {
        "colab": {
          "base_uri": "https://localhost:8080/"
        },
        "id": "wT3dD6BjJjwS",
        "outputId": "98752620-650a-40ca-dd3b-28e6909d32cc"
      },
      "execution_count": null,
      "outputs": [
        {
          "output_type": "stream",
          "name": "stdout",
          "text": [
            "       Probit Marginal Effects       \n",
            "=====================================\n",
            "Dep. Variable:                   inlf\n",
            "Method:                          dydx\n",
            "At:                           overall\n",
            "==============================================================================\n",
            "                dy/dx    std err          z      P>|z|      [0.025      0.975]\n",
            "------------------------------------------------------------------------------\n",
            "nwifeinc      -0.0036      0.002     -2.253      0.024      -0.007      -0.000\n",
            "educ           0.0387      0.007      5.271      0.000       0.024       0.053\n",
            "exper          0.0368      0.005      7.092      0.000       0.027       0.047\n",
            "expersq       -0.0006      0.000     -3.205      0.001      -0.001      -0.000\n",
            "age           -0.0167      0.002     -7.713      0.000      -0.021      -0.012\n",
            "kidslt6       -0.2652      0.031     -8.446      0.000      -0.327      -0.204\n",
            "==============================================================================\n"
          ]
        }
      ]
    },
    {
      "cell_type": "code",
      "source": [
        "#coefficients and Marginal effect table\n",
        "logit_mod = sm.Logit(Y, X)\n",
        "logit_res = logit_mod.fit(cov_type='HC1')\n",
        "\n",
        "print(logit_res.summary())"
      ],
      "metadata": {
        "colab": {
          "base_uri": "https://localhost:8080/"
        },
        "id": "ssm2Tj3PUv5I",
        "outputId": "eea42762-3fbb-493e-9894-41db3408475e"
      },
      "execution_count": null,
      "outputs": [
        {
          "output_type": "stream",
          "name": "stdout",
          "text": [
            "Optimization terminated successfully.\n",
            "         Current function value: 0.533983\n",
            "         Iterations 6\n",
            "                           Logit Regression Results                           \n",
            "==============================================================================\n",
            "Dep. Variable:                   inlf   No. Observations:                  753\n",
            "Model:                          Logit   Df Residuals:                      746\n",
            "Method:                           MLE   Df Model:                            6\n",
            "Date:                Sun, 03 Jul 2022   Pseudo R-squ.:                  0.2191\n",
            "Time:                        05:16:43   Log-Likelihood:                -402.09\n",
            "converged:                       True   LL-Null:                       -514.87\n",
            "Covariance Type:                  HC1   LLR p-value:                 6.756e-46\n",
            "==============================================================================\n",
            "                 coef    std err          z      P>|z|      [0.025      0.975]\n",
            "------------------------------------------------------------------------------\n",
            "const          0.7502      0.758      0.990      0.322      -0.736       2.236\n",
            "nwifeinc      -0.0210      0.009     -2.310      0.021      -0.039      -0.003\n",
            "educ           0.2176      0.044      4.936      0.000       0.131       0.304\n",
            "exper          0.2037      0.032      6.381      0.000       0.141       0.266\n",
            "expersq       -0.0031      0.001     -3.128      0.002      -0.005      -0.001\n",
            "age           -0.0922      0.013     -6.831      0.000      -0.119      -0.066\n",
            "kidslt6       -1.4682      0.202     -7.259      0.000      -1.865      -1.072\n",
            "==============================================================================\n"
          ]
        }
      ]
    },
    {
      "cell_type": "code",
      "source": [
        "logit_me = logit_res.get_margeff()\n",
        "print(logit_me.summary())"
      ],
      "metadata": {
        "colab": {
          "base_uri": "https://localhost:8080/"
        },
        "id": "xrOxeap5fXD7",
        "outputId": "a3a7f242-326a-4005-dfcc-ddd6d96512ab"
      },
      "execution_count": null,
      "outputs": [
        {
          "output_type": "stream",
          "name": "stdout",
          "text": [
            "        Logit Marginal Effects       \n",
            "=====================================\n",
            "Dep. Variable:                   inlf\n",
            "Method:                          dydx\n",
            "At:                           overall\n",
            "==============================================================================\n",
            "                dy/dx    std err          z      P>|z|      [0.025      0.975]\n",
            "------------------------------------------------------------------------------\n",
            "nwifeinc      -0.0038      0.002     -2.350      0.019      -0.007      -0.001\n",
            "educ           0.0389      0.007      5.224      0.000       0.024       0.054\n",
            "exper          0.0364      0.005      7.050      0.000       0.026       0.047\n",
            "expersq       -0.0006      0.000     -3.200      0.001      -0.001      -0.000\n",
            "age           -0.0165      0.002     -7.572      0.000      -0.021      -0.012\n",
            "kidslt6       -0.2625      0.032     -8.220      0.000      -0.325      -0.200\n",
            "==============================================================================\n"
          ]
        }
      ]
    },
    {
      "cell_type": "code",
      "source": [
        "hypotheses = '(exper = expersq), (exper = 0)'\n",
        "f_test = logit_res.wald_test(hypotheses)\n",
        "\n",
        "print(f_test)"
      ],
      "metadata": {
        "colab": {
          "base_uri": "https://localhost:8080/"
        },
        "id": "i396w-O1glP_",
        "outputId": "91094244-8c31-4e5d-8b72-d06d3d580d75"
      },
      "execution_count": null,
      "outputs": [
        {
          "output_type": "stream",
          "name": "stdout",
          "text": [
            "<Wald test (chi2): statistic=[[90.87993652]], p-value=1.843624735917318e-20, df_denom=2>\n"
          ]
        }
      ]
    },
    {
      "cell_type": "code",
      "source": [
        "#GLM coefficient comparison table"
      ],
      "metadata": {
        "id": "SEygp3MeiMm4"
      },
      "execution_count": null,
      "outputs": []
    },
    {
      "cell_type": "code",
      "source": [
        "info_dict={'R2' : lambda x: f\"{x.rsquared:.2f}\",\n",
        "           'Pseudo R2' : lambda x: f\"{x.prsquared:.2f}\",\n",
        "           'No. observations' : lambda x: f\"{int(x.nobs):d}\"}\n",
        "\n",
        "results_table = summary_col(results=[ols_res, probit_res, logit_res],\n",
        "                            float_format='%0.4f',\n",
        "                            stars = True,\n",
        "                            model_names=['OLS',\n",
        "                                         'Probit',\n",
        "                                         'Logit'],\n",
        "                            info_dict=info_dict,\n",
        "                            regressor_order=['const','nwifeinc', 'educ', \n",
        "                                             'exper', 'expersq', 'age', \n",
        "                                             'kidslt6'])\n",
        "\n",
        "results_table.add_title('GLM coefficient comparison')\n",
        "\n",
        "print(results_table)"
      ],
      "metadata": {
        "colab": {
          "base_uri": "https://localhost:8080/"
        },
        "id": "M4-JlpxOiQyZ",
        "outputId": "8d4e0a3c-76f6-4860-c207-49b815348f9d"
      },
      "execution_count": null,
      "outputs": [
        {
          "output_type": "stream",
          "name": "stdout",
          "text": [
            "           GLM coefficient comparison\n",
            "=================================================\n",
            "                    OLS       Probit     Logit   \n",
            "-------------------------------------------------\n",
            "const            0.6509***  0.4634     0.7502    \n",
            "                 (0.1405)   (0.4493)   (0.7581)  \n",
            "nwifeinc         -0.0033**  -0.0118**  -0.0210** \n",
            "                 (0.0015)   (0.0053)   (0.0091)  \n",
            "educ             0.0373***  0.1287***  0.2176*** \n",
            "                 (0.0072)   (0.0256)   (0.0441)  \n",
            "exper            0.0391***  0.1221***  0.2037*** \n",
            "                 (0.0058)   (0.0187)   (0.0319)  \n",
            "expersq          -0.0006*** -0.0019*** -0.0031***\n",
            "                 (0.0002)   (0.0006)   (0.0010)  \n",
            "age              -0.0169*** -0.0553*** -0.0922***\n",
            "                 (0.0023)   (0.0078)   (0.0135)  \n",
            "kidslt6          -0.2655*** -0.8809*** -1.4682***\n",
            "                 (0.0317)   (0.1158)   (0.2023)  \n",
            "R2               0.26                            \n",
            "Pseudo R2                   0.22       0.22      \n",
            "No. observations 753        753        753       \n",
            "=================================================\n",
            "Standard errors in parentheses.\n",
            "* p<.1, ** p<.05, ***p<.01\n"
          ]
        }
      ]
    },
    {
      "cell_type": "code",
      "source": [
        "#Create GLM ME table"
      ],
      "metadata": {
        "id": "pN9fkJHOiqVB"
      },
      "execution_count": null,
      "outputs": []
    },
    {
      "cell_type": "code",
      "source": [
        "me_OLS_col = np.array(ols_res.params[1::])\n",
        "p_OLS_col  = np.array(ols_res.pvalues[1::])\n",
        "me_Pro_col = probit_me.margeff\n",
        "p_Pro_col  = probit_me.pvalues\n",
        "me_Log_col = logit_me.margeff\n",
        "p_Log_col  = logit_me.pvalues\n",
        "\n",
        "df1 = pd.concat([pd.DataFrame({'vari':['nwifeinc','educ', 'exper', 'expersq', 'age', 'kidslt6']}), \n",
        "                 pd.DataFrame({'OLS ME': me_OLS_col.round(4)}),\n",
        "                 pd.DataFrame({'OLS p-val': p_OLS_col.round(2)}),\n",
        "                 pd.DataFrame({'Probit ME': me_Pro_col.round(4)}),\n",
        "                 pd.DataFrame({'Probit p-val': p_Pro_col.round(2)}),\n",
        "                 pd.DataFrame({'Logit ME': me_Log_col.round(4)}),\n",
        "                 pd.DataFrame({'Logit p-val': p_Log_col.round(2)})],\n",
        "                axis=1, join='inner')\n",
        "\n",
        "df1"
      ],
      "metadata": {
        "colab": {
          "base_uri": "https://localhost:8080/",
          "height": 237
        },
        "id": "68ivgh8hi_oH",
        "outputId": "1f05c5a1-2c13-445d-a510-8a72f9990e95"
      },
      "execution_count": null,
      "outputs": [
        {
          "output_type": "execute_result",
          "data": {
            "text/plain": [
              "       vari  OLS ME  OLS p-val  Probit ME  Probit p-val  Logit ME  Logit p-val\n",
              "0  nwifeinc -0.0033       0.03    -0.0036          0.02   -0.0038         0.02\n",
              "1      educ  0.0373       0.00     0.0387          0.00    0.0389         0.00\n",
              "2     exper  0.0391       0.00     0.0368          0.00    0.0364         0.00\n",
              "3   expersq -0.0006       0.00    -0.0006          0.00   -0.0006         0.00\n",
              "4       age -0.0169       0.00    -0.0167          0.00   -0.0165         0.00\n",
              "5   kidslt6 -0.2655       0.00    -0.2652          0.00   -0.2625         0.00"
            ],
            "text/html": [
              "\n",
              "  <div id=\"df-e7ca2750-dd9d-442a-95af-dfc72cb045e4\">\n",
              "    <div class=\"colab-df-container\">\n",
              "      <div>\n",
              "<style scoped>\n",
              "    .dataframe tbody tr th:only-of-type {\n",
              "        vertical-align: middle;\n",
              "    }\n",
              "\n",
              "    .dataframe tbody tr th {\n",
              "        vertical-align: top;\n",
              "    }\n",
              "\n",
              "    .dataframe thead th {\n",
              "        text-align: right;\n",
              "    }\n",
              "</style>\n",
              "<table border=\"1\" class=\"dataframe\">\n",
              "  <thead>\n",
              "    <tr style=\"text-align: right;\">\n",
              "      <th></th>\n",
              "      <th>vari</th>\n",
              "      <th>OLS ME</th>\n",
              "      <th>OLS p-val</th>\n",
              "      <th>Probit ME</th>\n",
              "      <th>Probit p-val</th>\n",
              "      <th>Logit ME</th>\n",
              "      <th>Logit p-val</th>\n",
              "    </tr>\n",
              "  </thead>\n",
              "  <tbody>\n",
              "    <tr>\n",
              "      <th>0</th>\n",
              "      <td>nwifeinc</td>\n",
              "      <td>-0.0033</td>\n",
              "      <td>0.03</td>\n",
              "      <td>-0.0036</td>\n",
              "      <td>0.02</td>\n",
              "      <td>-0.0038</td>\n",
              "      <td>0.02</td>\n",
              "    </tr>\n",
              "    <tr>\n",
              "      <th>1</th>\n",
              "      <td>educ</td>\n",
              "      <td>0.0373</td>\n",
              "      <td>0.00</td>\n",
              "      <td>0.0387</td>\n",
              "      <td>0.00</td>\n",
              "      <td>0.0389</td>\n",
              "      <td>0.00</td>\n",
              "    </tr>\n",
              "    <tr>\n",
              "      <th>2</th>\n",
              "      <td>exper</td>\n",
              "      <td>0.0391</td>\n",
              "      <td>0.00</td>\n",
              "      <td>0.0368</td>\n",
              "      <td>0.00</td>\n",
              "      <td>0.0364</td>\n",
              "      <td>0.00</td>\n",
              "    </tr>\n",
              "    <tr>\n",
              "      <th>3</th>\n",
              "      <td>expersq</td>\n",
              "      <td>-0.0006</td>\n",
              "      <td>0.00</td>\n",
              "      <td>-0.0006</td>\n",
              "      <td>0.00</td>\n",
              "      <td>-0.0006</td>\n",
              "      <td>0.00</td>\n",
              "    </tr>\n",
              "    <tr>\n",
              "      <th>4</th>\n",
              "      <td>age</td>\n",
              "      <td>-0.0169</td>\n",
              "      <td>0.00</td>\n",
              "      <td>-0.0167</td>\n",
              "      <td>0.00</td>\n",
              "      <td>-0.0165</td>\n",
              "      <td>0.00</td>\n",
              "    </tr>\n",
              "    <tr>\n",
              "      <th>5</th>\n",
              "      <td>kidslt6</td>\n",
              "      <td>-0.2655</td>\n",
              "      <td>0.00</td>\n",
              "      <td>-0.2652</td>\n",
              "      <td>0.00</td>\n",
              "      <td>-0.2625</td>\n",
              "      <td>0.00</td>\n",
              "    </tr>\n",
              "  </tbody>\n",
              "</table>\n",
              "</div>\n",
              "      <button class=\"colab-df-convert\" onclick=\"convertToInteractive('df-e7ca2750-dd9d-442a-95af-dfc72cb045e4')\"\n",
              "              title=\"Convert this dataframe to an interactive table.\"\n",
              "              style=\"display:none;\">\n",
              "        \n",
              "  <svg xmlns=\"http://www.w3.org/2000/svg\" height=\"24px\"viewBox=\"0 0 24 24\"\n",
              "       width=\"24px\">\n",
              "    <path d=\"M0 0h24v24H0V0z\" fill=\"none\"/>\n",
              "    <path d=\"M18.56 5.44l.94 2.06.94-2.06 2.06-.94-2.06-.94-.94-2.06-.94 2.06-2.06.94zm-11 1L8.5 8.5l.94-2.06 2.06-.94-2.06-.94L8.5 2.5l-.94 2.06-2.06.94zm10 10l.94 2.06.94-2.06 2.06-.94-2.06-.94-.94-2.06-.94 2.06-2.06.94z\"/><path d=\"M17.41 7.96l-1.37-1.37c-.4-.4-.92-.59-1.43-.59-.52 0-1.04.2-1.43.59L10.3 9.45l-7.72 7.72c-.78.78-.78 2.05 0 2.83L4 21.41c.39.39.9.59 1.41.59.51 0 1.02-.2 1.41-.59l7.78-7.78 2.81-2.81c.8-.78.8-2.07 0-2.86zM5.41 20L4 18.59l7.72-7.72 1.47 1.35L5.41 20z\"/>\n",
              "  </svg>\n",
              "      </button>\n",
              "      \n",
              "  <style>\n",
              "    .colab-df-container {\n",
              "      display:flex;\n",
              "      flex-wrap:wrap;\n",
              "      gap: 12px;\n",
              "    }\n",
              "\n",
              "    .colab-df-convert {\n",
              "      background-color: #E8F0FE;\n",
              "      border: none;\n",
              "      border-radius: 50%;\n",
              "      cursor: pointer;\n",
              "      display: none;\n",
              "      fill: #1967D2;\n",
              "      height: 32px;\n",
              "      padding: 0 0 0 0;\n",
              "      width: 32px;\n",
              "    }\n",
              "\n",
              "    .colab-df-convert:hover {\n",
              "      background-color: #E2EBFA;\n",
              "      box-shadow: 0px 1px 2px rgba(60, 64, 67, 0.3), 0px 1px 3px 1px rgba(60, 64, 67, 0.15);\n",
              "      fill: #174EA6;\n",
              "    }\n",
              "\n",
              "    [theme=dark] .colab-df-convert {\n",
              "      background-color: #3B4455;\n",
              "      fill: #D2E3FC;\n",
              "    }\n",
              "\n",
              "    [theme=dark] .colab-df-convert:hover {\n",
              "      background-color: #434B5C;\n",
              "      box-shadow: 0px 1px 3px 1px rgba(0, 0, 0, 0.15);\n",
              "      filter: drop-shadow(0px 1px 2px rgba(0, 0, 0, 0.3));\n",
              "      fill: #FFFFFF;\n",
              "    }\n",
              "  </style>\n",
              "\n",
              "      <script>\n",
              "        const buttonEl =\n",
              "          document.querySelector('#df-e7ca2750-dd9d-442a-95af-dfc72cb045e4 button.colab-df-convert');\n",
              "        buttonEl.style.display =\n",
              "          google.colab.kernel.accessAllowed ? 'block' : 'none';\n",
              "\n",
              "        async function convertToInteractive(key) {\n",
              "          const element = document.querySelector('#df-e7ca2750-dd9d-442a-95af-dfc72cb045e4');\n",
              "          const dataTable =\n",
              "            await google.colab.kernel.invokeFunction('convertToInteractive',\n",
              "                                                     [key], {});\n",
              "          if (!dataTable) return;\n",
              "\n",
              "          const docLinkHtml = 'Like what you see? Visit the ' +\n",
              "            '<a target=\"_blank\" href=https://colab.research.google.com/notebooks/data_table.ipynb>data table notebook</a>'\n",
              "            + ' to learn more about interactive tables.';\n",
              "          element.innerHTML = '';\n",
              "          dataTable['output_type'] = 'display_data';\n",
              "          await google.colab.output.renderOutput(dataTable, element);\n",
              "          const docLink = document.createElement('div');\n",
              "          docLink.innerHTML = docLinkHtml;\n",
              "          element.appendChild(docLink);\n",
              "        }\n",
              "      </script>\n",
              "    </div>\n",
              "  </div>\n",
              "  "
            ]
          },
          "metadata": {},
          "execution_count": 21
        }
      ]
    }
  ]
}